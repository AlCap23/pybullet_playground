{
 "cells": [
  {
   "cell_type": "markdown",
   "metadata": {},
   "source": [
    "# Inverse Kinematic example\n",
    "\n",
    "Simple example for the inverse kinematics function of pybullet for following a trajectory."
   ]
  },
  {
   "cell_type": "code",
   "execution_count": 1,
   "metadata": {},
   "outputs": [],
   "source": [
    "# Import the needed packages\n",
    "import numpy as np\n",
    "import pybullet as pb\n",
    "import pybullet_data as pbd\n",
    "from datetime import datetime\n",
    "from time import sleep"
   ]
  },
  {
   "cell_type": "code",
   "execution_count": 2,
   "metadata": {},
   "outputs": [],
   "source": [
    "# Start the physic engine\n",
    "client = pb.connect(pb.GUI)\n",
    "\n",
    "# Add data path\n",
    "pb.setAdditionalSearchPath(pbd.getDataPath())"
   ]
  },
  {
   "cell_type": "code",
   "execution_count": 3,
   "metadata": {},
   "outputs": [
    {
     "data": {
      "text/plain": [
       "({'lbr_iiwa_joint_1': 0,\n",
       "  'lbr_iiwa_joint_2': 1,\n",
       "  'lbr_iiwa_joint_3': 2,\n",
       "  'lbr_iiwa_joint_4': 3,\n",
       "  'lbr_iiwa_joint_5': 4,\n",
       "  'lbr_iiwa_joint_6': 5,\n",
       "  'lbr_iiwa_joint_7': 6},\n",
       " [2.96705972839,\n",
       "  2.09439510239,\n",
       "  2.96705972839,\n",
       "  2.09439510239,\n",
       "  2.96705972839,\n",
       "  2.09439510239,\n",
       "  3.05432619099],\n",
       " [-2.96705972839,\n",
       "  -2.09439510239,\n",
       "  -2.96705972839,\n",
       "  -2.09439510239,\n",
       "  -2.96705972839,\n",
       "  -2.09439510239,\n",
       "  -3.05432619099])"
      ]
     },
     "execution_count": 3,
     "metadata": {},
     "output_type": "execute_result"
    }
   ],
   "source": [
    "# Reset the simulation to avoid multiple planes or kukas\n",
    "pb.resetSimulation()\n",
    "\n",
    "# Import a plane\n",
    "plane = pb.loadURDF('plane.urdf')\n",
    "\n",
    "# Import a kuka with a fixed base\n",
    "kuka = pb.loadURDF('kuka_iiwa/model.urdf', useFixedBase = 1)\n",
    "# Get the number of joint of the kuka\n",
    "num_joints = pb.getNumJoints(kuka)\n",
    "# Make an empty dictionary\n",
    "joint_dict = {}\n",
    "# Define a list of upper and lower limits\n",
    "up_limits = []\n",
    "low_limits = []\n",
    "# Fill the dict\n",
    "for i in range(num_joints):\n",
    "    # Get a list of joint information\n",
    "    joint_info = pb.getJointInfo(kuka, i)\n",
    "    joint_dict.update({str(joint_info[1], 'utf-8') : joint_info[0]})\n",
    "    # Get the limits\n",
    "    up_limits.append(joint_info[9]), low_limits.append(joint_info[8])\n",
    "\n",
    "# Print because safety first!\n",
    "joint_dict, up_limits, low_limits"
   ]
  },
  {
   "cell_type": "code",
   "execution_count": 6,
   "metadata": {},
   "outputs": [
    {
     "ename": "KeyboardInterrupt",
     "evalue": "",
     "output_type": "error",
     "traceback": [
      "\u001b[0;31m---------------------------------------------------------------------------\u001b[0m",
      "\u001b[0;31mKeyboardInterrupt\u001b[0m                         Traceback (most recent call last)",
      "\u001b[0;32m<ipython-input-6-9f6383eb2368>\u001b[0m in \u001b[0;36m<module>\u001b[0;34m()\u001b[0m\n\u001b[1;32m     33\u001b[0m     \u001b[0merror\u001b[0m \u001b[0;34m=\u001b[0m \u001b[0mnp\u001b[0m\u001b[0;34m.\u001b[0m\u001b[0mlinalg\u001b[0m\u001b[0;34m.\u001b[0m\u001b[0mnorm\u001b[0m\u001b[0;34m(\u001b[0m\u001b[0mcurrent_x\u001b[0m \u001b[0;34m-\u001b[0m \u001b[0mnp\u001b[0m\u001b[0;34m.\u001b[0m\u001b[0marray\u001b[0m\u001b[0;34m(\u001b[0m\u001b[0mlink_state\u001b[0m\u001b[0;34m[\u001b[0m\u001b[0;36m0\u001b[0m\u001b[0;34m]\u001b[0m\u001b[0;34m)\u001b[0m\u001b[0;34m)\u001b[0m\u001b[0;34m\u001b[0m\u001b[0m\n\u001b[1;32m     34\u001b[0m     \u001b[0;31m# add another line for the positional error\u001b[0m\u001b[0;34m\u001b[0m\u001b[0;34m\u001b[0m\u001b[0m\n\u001b[0;32m---> 35\u001b[0;31m     \u001b[0mpb\u001b[0m\u001b[0;34m.\u001b[0m\u001b[0maddUserDebugLine\u001b[0m\u001b[0;34m(\u001b[0m\u001b[0mcurrent_x\u001b[0m\u001b[0;34m,\u001b[0m \u001b[0mnext_x\u001b[0m \u001b[0;34m+\u001b[0m \u001b[0mnp\u001b[0m\u001b[0;34m.\u001b[0m\u001b[0marray\u001b[0m\u001b[0;34m(\u001b[0m\u001b[0;34m[\u001b[0m\u001b[0;36m0\u001b[0m\u001b[0;34m,\u001b[0m\u001b[0;36m0\u001b[0m\u001b[0;34m,\u001b[0m\u001b[0merror\u001b[0m\u001b[0;34m]\u001b[0m\u001b[0;34m)\u001b[0m\u001b[0;34m,\u001b[0m \u001b[0mlineColorRGB\u001b[0m \u001b[0;34m=\u001b[0m \u001b[0;34m[\u001b[0m\u001b[0;36m1\u001b[0m\u001b[0;34m,\u001b[0m \u001b[0;36m0\u001b[0m\u001b[0;34m,\u001b[0m \u001b[0;36m0\u001b[0m\u001b[0;34m]\u001b[0m\u001b[0;34m,\u001b[0m \u001b[0mlifeTime\u001b[0m \u001b[0;34m=\u001b[0m \u001b[0;36m20\u001b[0m\u001b[0;34m)\u001b[0m\u001b[0;34m\u001b[0m\u001b[0m\n\u001b[0m\u001b[1;32m     36\u001b[0m     \u001b[0;31m# Sleep to see something\u001b[0m\u001b[0;34m\u001b[0m\u001b[0;34m\u001b[0m\u001b[0m\n\u001b[1;32m     37\u001b[0m     \u001b[0msleep\u001b[0m\u001b[0;34m(\u001b[0m\u001b[0;36m1e-3\u001b[0m\u001b[0;34m)\u001b[0m\u001b[0;34m\u001b[0m\u001b[0m\n",
      "\u001b[0;31mKeyboardInterrupt\u001b[0m: "
     ]
    }
   ],
   "source": [
    "# Define the start and stop time\n",
    "start_time = 0\n",
    "stop_time = 100\n",
    "# Time step\n",
    "dt = 0.0005\n",
    "\n",
    "# Create a trajectory\n",
    "# Array for time values\n",
    "time = np.arange(start_time, stop_time, dt)\n",
    "# Array of x,y,z, time values\n",
    "x = np.zeros((3,len(time)))\n",
    "for t in range(len(time)):\n",
    "    x[:,t] = [0.3*np.sin(time[t]), 0.6*np.cos(time[t]), 0.5 + 0.25 *np.sin(10*time[t])]\n",
    "\n",
    "\n",
    "# Set the simulation to step wise\n",
    "pb.setRealTimeSimulation(0)\n",
    "# Set the right timestep\n",
    "pb.setTimeStep(dt)\n",
    "\n",
    "for i in range(len(time)-1):\n",
    "    # Get the current trajectory value\n",
    "    current_x = x[:,i]\n",
    "    # Get the next trajectory value\n",
    "    next_x = x[:,i+1]\n",
    "    # Add a line between the current value and the next value which lasts for some time\n",
    "    pb.addUserDebugLine(current_x, next_x,lineColorRGB = [0, 1, 0],lifeTime = 20)\n",
    "    # Calculate the inverse kinematics of the kuka robot for the last joint, the target position, with the limtis\n",
    "    joint_pos = pb.calculateInverseKinematics(kuka, num_joints-1, next_x, lowerLimits = low_limits, upperLimits = up_limits)\n",
    "    # Set the Kuka to Position control - maybe we can just directly set the joint states?\n",
    "    pb.setJointMotorControlArray(kuka, np.arange(num_joints), controlMode = pb.POSITION_CONTROL, targetPositions = joint_pos, )\n",
    "    # Calculate the position error because we can :)\n",
    "    link_state = pb.getLinkState(kuka, num_joints-1)\n",
    "    error = np.linalg.norm(current_x - np.array(link_state[0]))\n",
    "    # add another line for the positional error\n",
    "    pb.addUserDebugLine(current_x, next_x + np.array([0,0,error]), lineColorRGB = [1, 0, 0], lifeTime = 20)\n",
    "    # Sleep to see something\n",
    "    sleep(1e-3)\n",
    "    # Step the simulation\n",
    "    pb.stepSimulation()"
   ]
  },
  {
   "cell_type": "code",
   "execution_count": null,
   "metadata": {},
   "outputs": [],
   "source": []
  }
 ],
 "metadata": {
  "kernelspec": {
   "display_name": "Python 3",
   "language": "python",
   "name": "python3"
  },
  "language_info": {
   "codemirror_mode": {
    "name": "ipython",
    "version": 3
   },
   "file_extension": ".py",
   "mimetype": "text/x-python",
   "name": "python",
   "nbconvert_exporter": "python",
   "pygments_lexer": "ipython3",
   "version": "3.5.2"
  }
 },
 "nbformat": 4,
 "nbformat_minor": 2
}
